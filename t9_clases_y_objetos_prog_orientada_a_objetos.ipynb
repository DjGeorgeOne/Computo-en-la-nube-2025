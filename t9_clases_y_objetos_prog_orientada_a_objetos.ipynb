{
 "cells": [
  {
   "cell_type": "markdown",
   "metadata": {},
   "source": []
  },
  {
   "cell_type": "code",
   "execution_count": null,
   "metadata": {},
   "outputs": [],
   "source": [
    "calse = fabrica\n",
    "cosntructores = maquinas de las fabricas\n",
    "parametros = objetos que maneja la maquina\n",
    "self= this = objeto especifico "
   ]
  },
  {
   "cell_type": "code",
   "execution_count": null,
   "metadata": {},
   "outputs": [],
   "source": [
    "class Pokemon:\n",
    "    name = \"\"\n",
    "    level = 0\n",
    "    hp = 0  \n",
    "    attack = 0\n",
    "    defense = 0\n",
    "    \n",
    "    def describir(self):\n",
    "        print(\"Nombre: \", self.name)\n",
    "        print(\"Nivel: \", self.level)\n",
    "        print(\"HP: \", self.hp)\n",
    "        print(\"Ataque: \", self.attack)\n",
    "        print(\"Defensa: \", self.defense)\n",
    "        \n",
    "        def ataque_fuego(self):\n",
    "            print(\"Ahhhh tira fuego\")\n",
    "        def ataque_agua(self):\n",
    "            print(\"Ahhhh tira agua\")"
   ]
  },
  {
   "cell_type": "code",
   "execution_count": null,
   "metadata": {},
   "outputs": [],
   "source": [
    "pokemon1 = Pokemon()\n",
    "pokemon1.name = \"Charmander\"\n",
    "pokemon1.level =  random.randint(1, 10)\n",
    "pokemon1.hp = 39\n",
    "pokemon1.attack = 52\n",
    "pokemon1.defense = 43\n",
    "pokemon1.describir()\n",
    "pokemon1.ataque_fuego()"
   ]
  },
  {
   "cell_type": "code",
   "execution_count": null,
   "metadata": {},
   "outputs": [],
   "source": [
    "pokemon2 = Bulbasaur()\n",
    "pokemon2.name = \"Bulbasaur\"\n",
    "pokemon2.level = random.randint(1, 10)\n",
    "pokemon2.hp = 45\n",
    "pokemon2.attack = 49\n",
    "pokemon2.defense = 49\n",
    "pokemon2.describir()\n",
    "pokemon2.ataque_planta()"
   ]
  },
  {
   "cell_type": "markdown",
   "metadata": {},
   "source": [
    "Construtor"
   ]
  },
  {
   "cell_type": "code",
   "execution_count": 4,
   "metadata": {},
   "outputs": [],
   "source": [
    "def Animal():\n",
    "    def __init__(self, raza,color,edad,sexo,patas):\n",
    "        self.raza = raza\n",
    "        self.color = color\n",
    "        self.edad = edad\n",
    "        self.sexo = sexo\n",
    "        self.patas = patas\n",
    "        \n",
    "    def describir(self):\n",
    "        print(\"Raza: \", self.raza)\n",
    "        print(\"Color: \", self.color)\n",
    "        print(\"Edad: \", self.edad)\n",
    "        print(\"Sexo: \", self.sexo)\n",
    "        print(\"Patas: \", self.patas)\n",
    "        "
   ]
  },
  {
   "cell_type": "code",
   "execution_count": null,
   "metadata": {},
   "outputs": [],
   "source": [
    "perro1 = Animal(\"Pastor Aleman\",\"Cafe\",5,\"Macho\",4)\n",
    "perro1.describir()"
   ]
  },
  {
   "cell_type": "markdown",
   "metadata": {},
   "source": [
    "Ejercicio de practica con Netflix"
   ]
  },
  {
   "cell_type": "code",
   "execution_count": 1,
   "metadata": {},
   "outputs": [
    {
     "name": "stdout",
     "output_type": "stream",
     "text": [
      "Nombre: Stranger Things\n",
      "Año: 2016\n",
      "Temporadas: 4\n",
      "Duración: 50 min\n",
      "Género: Ciencia ficción\n",
      "País: Estados Unidos\n"
     ]
    }
   ],
   "source": [
    "class pelis_netflix:\n",
    "    def __init__(self, nombre, year, temporadas, duracion, genero, pais):\n",
    "        self.nombre = nombre\n",
    "        self.year = year\n",
    "        self.temporadas = temporadas\n",
    "        self.duracion = duracion\n",
    "        self.genero = genero\n",
    "        self.pais = pais\n",
    "\n",
    "    def describir(self):\n",
    "        print(\"Nombre:\", self.nombre)\n",
    "        print(\"Año:\", self.year)\n",
    "        print(\"Temporadas:\", self.temporadas)\n",
    "        print(\"Duración:\", self.duracion)\n",
    "        print(\"Género:\",self.genero)\n",
    "        print(\"País:\", self.pais)\n",
    "\n",
    "pelis_netflix1 = pelis_netflix(\"Stranger Things\", 2016, 4, \"50 min\", \"Ciencia ficción\", \"Estados Unidos\")\n",
    "pelis_netflix1.describir()"
   ]
  }
 ],
 "metadata": {
  "kernelspec": {
   "display_name": "Python 3",
   "language": "python",
   "name": "python3"
  },
  "language_info": {
   "codemirror_mode": {
    "name": "ipython",
    "version": 3
   },
   "file_extension": ".py",
   "mimetype": "text/x-python",
   "name": "python",
   "nbconvert_exporter": "python",
   "pygments_lexer": "ipython3",
   "version": "3.13.0"
  }
 },
 "nbformat": 4,
 "nbformat_minor": 2
}
