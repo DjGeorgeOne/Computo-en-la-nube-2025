{
 "cells": [
  {
   "cell_type": "markdown",
   "metadata": {},
   "source": [
    "### Salida"
   ]
  },
  {
   "cell_type": "code",
   "execution_count": 2,
   "metadata": {},
   "outputs": [
    {
     "name": "stdout",
     "output_type": "stream",
     "text": [
      "mi nommbre es: jorgejorgejorgejorgejorgejorgejorgejorgejorgejorge\n"
     ]
    }
   ],
   "source": [
    "nombre = \"jorge\"\n",
    "\n",
    "print (f\"mi nommbre es: {nombre*10}\")"
   ]
  },
  {
   "cell_type": "markdown",
   "metadata": {},
   "source": [
    "### Entradas"
   ]
  },
  {
   "cell_type": "code",
   "execution_count": 5,
   "metadata": {},
   "outputs": [
    {
     "name": "stdout",
     "output_type": "stream",
     "text": [
      "mi nombre es: Jorge\n"
     ]
    }
   ],
   "source": [
    "nombre = input(\"Ingresa tu nombre\")\n",
    "\n",
    "print (f\"mi nombre es: {nombre}\")"
   ]
  },
  {
   "cell_type": "code",
   "execution_count": null,
   "metadata": {},
   "outputs": [
    {
     "name": "stdout",
     "output_type": "stream",
     "text": [
      "La suma es: 25\n"
     ]
    }
   ],
   "source": [
    "a = int(input(\"ingresa un numero\"))\n",
    "b = int(input(\"Ingresa otro numero\"))\n",
    "suma = int(a+b)\n",
    "\n",
    "print(f\"La suma es: {suma}\")"
   ]
  },
  {
   "cell_type": "code",
   "execution_count": 12,
   "metadata": {},
   "outputs": [
    {
     "name": "stdout",
     "output_type": "stream",
     "text": [
      "c : True\n"
     ]
    }
   ],
   "source": [
    "c = bool(input(\"Ingresa un numero\"))\n",
    "\n",
    "print(f\"c : {c}\")"
   ]
  }
 ],
 "metadata": {
  "kernelspec": {
   "display_name": "Python 3",
   "language": "python",
   "name": "python3"
  },
  "language_info": {
   "codemirror_mode": {
    "name": "ipython",
    "version": 3
   },
   "file_extension": ".py",
   "mimetype": "text/x-python",
   "name": "python",
   "nbconvert_exporter": "python",
   "pygments_lexer": "ipython3",
   "version": "3.13.0"
  }
 },
 "nbformat": 4,
 "nbformat_minor": 2
}
