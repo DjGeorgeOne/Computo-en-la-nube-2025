{
 "cells": [
  {
   "cell_type": "markdown",
   "metadata": {},
   "source": [
    "Apertura de archivos"
   ]
  },
  {
   "cell_type": "code",
   "execution_count": 34,
   "metadata": {},
   "outputs": [],
   "source": [
    "archivo = open(\"archivo.txt\", \"r\") #abrimos el archivo en modo lectura"
   ]
  },
  {
   "cell_type": "code",
   "execution_count": 35,
   "metadata": {},
   "outputs": [
    {
     "name": "stdout",
     "output_type": "stream",
     "text": [
      "Hola mundo\n"
     ]
    }
   ],
   "source": [
    "contenido = archivo.readline() #lee el archivo\n",
    "print(contenido) #imprime el contenido del archivo"
   ]
  },
  {
   "cell_type": "code",
   "execution_count": 32,
   "metadata": {},
   "outputs": [],
   "source": [
    "archivo = open(\"archivo.txt\", \"w\") #abre el archivo en modo escritura\n",
    "archivo.write(\"Hola mundo\") #escribe en el archivo\n",
    "archivo.close() #cierra el archivo"
   ]
  },
  {
   "cell_type": "code",
   "execution_count": 38,
   "metadata": {},
   "outputs": [],
   "source": [
    "archivo = open(\"archivo.txt\", \"a\") #abre el archivo en modo append\n",
    "archivo.write(\"Hola mundo\\n\") #escribe en el archivo\n",
    "archivo.close() #cierra el archivo"
   ]
  },
  {
   "cell_type": "code",
   "execution_count": 39,
   "metadata": {},
   "outputs": [
    {
     "name": "stdout",
     "output_type": "stream",
     "text": [
      "Hola mundoHola mundo\n",
      "Hola mundo\n",
      "Hola mundo\n",
      "\n"
     ]
    }
   ],
   "source": [
    "with open(\"archivo.txt\", \"r\") as archivo: #abre el archivo en modo lectura\n",
    "    contenido = archivo.read() #lee el archivo\n",
    "    print(contenido) #imprime el contenido del archivo"
   ]
  },
  {
   "cell_type": "code",
   "execution_count": null,
   "metadata": {},
   "outputs": [],
   "source": [
    "tareas = [\"comprar leche\", \"ver la tv\",\"comprar cena\"] \n",
    "\n",
    "with open(\"tareas.txt\", \"w\") as archivo: #abre el archivo en modo escritura\n",
    "    for tarea in tareas:\n",
    "        archivo.write(tarea + \"\\n\") #escribe en el archivo\n",
    "\n"
   ]
  },
  {
   "cell_type": "code",
   "execution_count": null,
   "metadata": {},
   "outputs": [],
   "source": [
    "nueva_tarea = input(\"Introduce una nueva tarea: \")\n",
    "\n",
    "with open(\"tareas.txt\", \"a\") as archivo:\n",
    "    archivo.write(nueva_tarea + \"\\n\")   \n",
    "    "
   ]
  },
  {
   "cell_type": "code",
   "execution_count": 1,
   "metadata": {},
   "outputs": [
    {
     "name": "stdout",
     "output_type": "stream",
     "text": [
      "Tareas añadidas:\n",
      "comprar leche\n",
      "ver netflix\n",
      "contratar el f1 tv pro\n",
      "\n"
     ]
    }
   ],
   "source": [
    "while True:\n",
    "    nueva_tarea = input(\"Introduce una nueva tarea (o un número para salir): \")\n",
    "    if nueva_tarea.isdigit():\n",
    "        break\n",
    "    with open(\"tareas.txt\", \"a\") as archivo:\n",
    "        archivo.write(nueva_tarea + \"\\n\")\n",
    "\n",
    "with open(\"tareas.txt\", \"r\") as archivo:\n",
    "    contenido = archivo.read()\n",
    "    print(\"Tareas añadidas:\")\n",
    "    print(contenido)"
   ]
  }
 ],
 "metadata": {
  "kernelspec": {
   "display_name": "Python 3",
   "language": "python",
   "name": "python3"
  },
  "language_info": {
   "codemirror_mode": {
    "name": "ipython",
    "version": 3
   },
   "file_extension": ".py",
   "mimetype": "text/x-python",
   "name": "python",
   "nbconvert_exporter": "python",
   "pygments_lexer": "ipython3",
   "version": "3.13.0"
  }
 },
 "nbformat": 4,
 "nbformat_minor": 2
}
