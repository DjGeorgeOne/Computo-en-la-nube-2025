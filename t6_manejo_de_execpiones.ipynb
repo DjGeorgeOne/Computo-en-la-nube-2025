{
 "cells": [
  {
   "cell_type": "markdown",
   "metadata": {},
   "source": [
    "Bloque try y except"
   ]
  },
  {
   "cell_type": "code",
   "execution_count": null,
   "metadata": {},
   "outputs": [],
   "source": [
    "try:\n",
    "    numero = int(input(\"Introduce un número: \"))\n",
    "    resultado = 10 / numero\n",
    "    print(resultado)\n",
    "except ZeroDivisionError:\n",
    "    print(\"No puedes dividir por cero.\")\n",
    "except ValueError:\n",
    "    print(\"Debes ingresar un número válido.\")"
   ]
  },
  {
   "cell_type": "markdown",
   "metadata": {},
   "source": [
    "Bloque else"
   ]
  },
  {
   "cell_type": "code",
   "execution_count": null,
   "metadata": {},
   "outputs": [],
   "source": [
    "try:\n",
    "    numero = int(input(\"Introduce un número: \"))\n",
    "except ValueError:\n",
    "    print(\"Debes ingresar un número válido.\")\n",
    "else:\n",
    "    print(f\"Has introducido el número {numero}.\")"
   ]
  },
  {
   "cell_type": "markdown",
   "metadata": {},
   "source": [
    "Bloque finaly"
   ]
  },
  {
   "cell_type": "code",
   "execution_count": null,
   "metadata": {},
   "outputs": [],
   "source": [
    "try:\n",
    "    f = open(\"archivo.txt\")\n",
    "    # procesar el archivo\n",
    "except FileNotFoundError:\n",
    "    print(\"El archivo no se encuentra.\")\n",
    "finally:\n",
    "    f.close()"
   ]
  },
  {
   "cell_type": "markdown",
   "metadata": {},
   "source": [
    "Escribe un programa que solicite al usuario tres numeros y muestre la división de ambos, manejando posibles errores"
   ]
  },
  {
   "cell_type": "code",
   "execution_count": null,
   "metadata": {},
   "outputs": [],
   "source": [
    "\n",
    "    try:\n",
    "        num1 = float(input(\"Ingrese el primer número: \"))\n",
    "        num2 = float(input(\"Ingrese el segundo número: \"))\n",
    "        num3 = float(input(\"Ingrese el tercer número: \"))\n",
    "        \n",
    "        resultado = num1 / num2 / num3\n",
    "        print(f\"El resultado de la división es: {resultado}\")\n",
    "    except ValueError:\n",
    "        print(\"Error: Por favor, ingrese solo números.\")\n",
    "    except ZeroDivisionError:\n",
    "        print(\"Error: No se puede dividir por cero.\")\n",
    "    except OverflowError:\n",
    "        print(\"Error: El número es demasiado grande.\")\n",
    "    except KeyboardInterrupt:\n",
    "        print(\"\\nError: Entrada interrumpida por el usuario.\")\n",
    "    except TypeError:\n",
    "        print(\"Error: Tipo de dato no soportado.\")\n",
    "    except ArithmeticError:\n",
    "        print(\"Error: Error aritmético.\")\n",
    "    except MemoryError:\n",
    "        print(\"Error: Memoria insuficiente.\")\n",
    "    except Exception as e:\n",
    "        print(f\"Error inesperado: {e}\")"
   ]
  }
 ],
 "metadata": {
  "kernelspec": {
   "display_name": "Python 3",
   "language": "python",
   "name": "python3"
  },
  "language_info": {
   "codemirror_mode": {
    "name": "ipython",
    "version": 3
   },
   "file_extension": ".py",
   "mimetype": "text/x-python",
   "name": "python",
   "nbconvert_exporter": "python",
   "pygments_lexer": "ipython3",
   "version": "3.13.0"
  }
 },
 "nbformat": 4,
 "nbformat_minor": 2
}
