{
 "cells": [
  {
   "cell_type": "markdown",
   "metadata": {},
   "source": [
    "### Ejercicio final de phyton"
   ]
  },
  {
   "cell_type": "markdown",
   "metadata": {},
   "source": [
    " Crear un sistema que me permita trabajar con las clases Netflix o Spotify.\n",
    "Este sistema, deberá obtener los datos de los objetos instanciados, crear un archivo\n",
    ".txt con base al nombre, otro archivo .txt con las categorías y los datos de la cancion o pelicula, este ultimo archivo debera contener todos los datos.\n",
    "- los archivos de nombre deberán estar en una carpeta llamada canciones o peliculas, y los arvhivos de categorias en una carpeta llamada categorias.\n",
    "Pistas:\n",
    "* El primer archivo con el nombre es un \"w\"\n",
    "* El segundo archivo que añade por categiria es un \"a\""
   ]
  },
  {
   "cell_type": "code",
   "execution_count": null,
   "metadata": {},
   "outputs": [],
   "source": [
    "import os # Importar módulo para manejo de archivos\n",
    "\n",
    "class peliculas: # Crear clase\n",
    "    def __init__(self, nombre, year, temporadas, duracion, genero, pais):\n",
    "        self.nombre = nombre\n",
    "        self.year = year\n",
    "        self.temporadas = temporadas\n",
    "        self.duracion = duracion\n",
    "        self.genero = genero\n",
    "        self.pais = pais\n",
    "\n",
    "    def obtener_datos(self): # Método para obtener los datos\n",
    "        return (f\"Nombre: {self.nombre}, Año: {self.year}, Temporadas: {self.temporadas}, \"\n",
    "                f\"Duración: {self.duracion}, Género: {self.genero}, País: {self.pais}\")\n",
    "\n",
    "def crear_archivos(objeto): # Función para crear archivos\n",
    "    carpeta_base = 'peliculas' # Carpeta base\n",
    "    carpeta_genero = os.path.join(carpeta_base, objeto.genero) # Carpeta del género\n",
    "\n",
    "    # Crear carpetas si no existen\n",
    "    os.makedirs(carpeta_genero, exist_ok=True)\n",
    "\n",
    "    # Crear archivo con el nombre en la carpeta del género\n",
    "    with open(f\"{carpeta_genero}/{objeto.nombre}.txt\", 'w') as archivo_nombre:\n",
    "        archivo_nombre.write(objeto.obtener_datos())\n",
    "\n",
    "    # Crear archivo con la categoría\n",
    "    with open(f\"{carpeta_genero}/categorias.txt\", 'a') as archivo_categoria:\n",
    "        archivo_categoria.write(objeto.obtener_datos() + '\\n')\n",
    "\n",
    "# Ejemplo de uso\n",
    "pelicula1 = peliculas(\"Inception\", 2010, 1, \"148 min\", \"Sci-Fi\", \"USA\")\n",
    "crear_archivos(pelicula1)\n",
    "pelicula2 = peliculas(\"The Matrix\", 1999, 1, \"136 min\", \"Sci-Fi\", \"USA\")\n",
    "crear_archivos(pelicula2)\n",
    "pelicula3 = peliculas(\"The Dark Knight\", 2008, 1, \"152 min\", \"Action\", \"USA\")\n",
    "crear_archivos(pelicula3)\n",
    "pelicula4 = peliculas(\"The Lord of the Rings: The Return of the King\", 2003, 1, \"201 min\", \"Adventure\", \"USA\")\n",
    "crear_archivos(pelicula4)\n",
    "pelicula5 = peliculas(\"The Godfather\", 1972, 1, \"175 min\", \"Crime\", \"USA\")\n",
    "crear_archivos(pelicula5)\n",
    "pelicula6 = peliculas(\"The Shawshank Redemption\", 1994, 1, \"142 min\", \"Drama\", \"USA\")\n",
    "crear_archivos(pelicula6)\n",
    "pelicula7 = peliculas(\"Pulp Fiction\", 1994, 1, \"154 min\", \"Crime\", \"USA\")\n",
    "crear_archivos(pelicula7)\n",
    "pelicula8 = peliculas(\"The Dark Knight Rises\", 2012, 1, \"164 min\", \"Action\", \"USA\")\n",
    "crear_archivos(pelicula8)\n",
    "pelicula9 = peliculas(\"Avengers: Endgame\", 2019, 1, \"181 min\", \"Action\", \"USA\")\n",
    "crear_archivos(pelicula9)\n",
    "pelicula10 = peliculas(\"Proyect X\", 2012, 1, \"88 min\", \"Comedy\", \"USA\")\n",
    "crear_archivos(pelicula10)\n"
   ]
  }
 ],
 "metadata": {
  "kernelspec": {
   "display_name": "Python 3",
   "language": "python",
   "name": "python3"
  },
  "language_info": {
   "codemirror_mode": {
    "name": "ipython",
    "version": 3
   },
   "file_extension": ".py",
   "mimetype": "text/x-python",
   "name": "python",
   "nbconvert_exporter": "python",
   "pygments_lexer": "ipython3",
   "version": "3.13.0"
  }
 },
 "nbformat": 4,
 "nbformat_minor": 2
}
