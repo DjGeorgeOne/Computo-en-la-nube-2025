{
 "cells": [
  {
   "cell_type": "markdown",
   "metadata": {},
   "source": [
    "Estructura de datos"
   ]
  },
  {
   "cell_type": "markdown",
   "metadata": {},
   "source": [
    "1. Listas"
   ]
  },
  {
   "cell_type": "code",
   "execution_count": null,
   "metadata": {},
   "outputs": [],
   "source": [
    "frutas = [\"manzana\", \"banana\", \"cereza\"]\n",
    "numeros = [1, 2, 3, 4, 5]\n",
    "mixto = [\"txt\", 123, True, 3.14]"
   ]
  },
  {
   "cell_type": "code",
   "execution_count": null,
   "metadata": {},
   "outputs": [],
   "source": [
    "print(frutas[0]) #imprime manzana\n",
    "frutas[1] = \"uva\" #cambia banana por uva\n",
    "print(frutas[1]) #imprime uva\n",
    "\n"
   ]
  },
  {
   "cell_type": "markdown",
   "metadata": {},
   "source": [
    "2. Tuplas"
   ]
  },
  {
   "cell_type": "code",
   "execution_count": null,
   "metadata": {},
   "outputs": [],
   "source": [
    "colores = (\"rojo\", \"verde\", \"azul\")"
   ]
  },
  {
   "cell_type": "code",
   "execution_count": null,
   "metadata": {},
   "outputs": [],
   "source": [
    "print(colores[0]) #imprime rojo\n"
   ]
  },
  {
   "cell_type": "markdown",
   "metadata": {},
   "source": [
    "3. Sets"
   ]
  },
  {
   "cell_type": "code",
   "execution_count": null,
   "metadata": {},
   "outputs": [],
   "source": [
    "animales = {\"gato\", \"perro\", \"pez\"} #los duplicados se eliminan"
   ]
  },
  {
   "cell_type": "code",
   "execution_count": null,
   "metadata": {},
   "outputs": [],
   "source": [
    "print(\"gato\" in animales) #verifica si el elemnto existe"
   ]
  },
  {
   "cell_type": "markdown",
   "metadata": {},
   "source": [
    "4. Diccionarios"
   ]
  },
  {
   "cell_type": "code",
   "execution_count": null,
   "metadata": {},
   "outputs": [],
   "source": [
    "persona = {\n",
    "    \"nombre\" : \"Jorge\",\n",
    "    \"edad\" : 21,\n",
    "\"ciudad\" : \"Cancun\"\n",
    "}"
   ]
  },
  {
   "cell_type": "code",
   "execution_count": null,
   "metadata": {},
   "outputs": [],
   "source": [
    "print(persona[\"nombre\"]) #imprime nombre\n",
    "persona[\"edad\"] = 25 #modifica la edad "
   ]
  },
  {
   "cell_type": "markdown",
   "metadata": {},
   "source": [
    "Metodos de arreglos 10 para cada uno"
   ]
  },
  {
   "cell_type": "code",
   "execution_count": null,
   "metadata": {},
   "outputs": [],
   "source": [
    "# Métodos para listas\n",
    "frutas.append(\"naranja\")  # Agrega un elemento al final de la lista\n",
    "frutas.insert(1, \"kiwi\")  # Inserta un elemento en una posición específica\n",
    "frutas.remove(\"cereza\")  # Elimina el primer elemento con el valor especificado\n",
    "frutas.pop()  # Elimina y devuelve el último elemento de la lista\n",
    "frutas.pop(1)  # Elimina y devuelve el elemento en la posición especificada\n",
    "frutas.clear()  # Elimina todos los elementos de la lista\n",
    "frutas.extend([\"mango\", \"piña\"])  # Agrega todos los elementos de una lista al final de la lista actual\n",
    "frutas.sort()  # Ordena la lista en orden ascendente\n",
    "frutas.reverse()  # Invierte el orden de los elementos en la lista\n",
    "frutas.count(\"manzana\")  # Devuelve el número de elementos con el valor especificado\n",
    "\n",
    "# Métodos para tuplas (las tuplas son inmutables, por lo que tienen menos métodos)\n",
    "print(colores.count(\"rojo\"))  # Devuelve el número de veces que aparece el valor especificado\n",
    "print(colores.index(\"verde\"))  # Devuelve el índice del primer elemento con el valor especificado\n",
    "len(colores)  # Devuelve la longitud de la tupla\n",
    "max(colores)  # Devuelve el elemento máximo de la tupla\n",
    "min(colores)  # Devuelve el elemento mínimo de la tupla\n",
    "sum((1, 2, 3))  # Devuelve la suma de los elementos de la tupla (solo para tuplas de números)\n",
    "tuple([1, 2, 3])  # Convierte una lista en una tupla\n",
    "any((0, 1, 2))  # Devuelve True si algún elemento de la tupla es verdadero\n",
    "all((1, 2, 3))  # Devuelve True si todos los elementos de la tupla son verdaderos\n",
    "sorted((3, 2, 1))  # Devuelve una lista ordenada de los elementos de la tupla\n",
    "\n",
    "# Métodos para sets\n",
    "animales.add(\"tortuga\")  # Agrega un elemento al set\n",
    "animales.update([\"pájaro\", \"conejo\"])  # Agrega múltiples elementos al set\n",
    "animales.remove(\"pez\")  # Elimina un elemento del set, genera un error si el elemento no existe\n",
    "animales.discard(\"perro\")  # Elimina un elemento del set, no genera un error si el elemento no existe\n",
    "animales.pop()  # Elimina y devuelve un elemento aleatorio del set\n",
    "animales.clear()  # Elimina todos los elementos del set\n",
    "animales.union({\"león\", \"tigre\"})  # Devuelve un nuevo set con los elementos del set y los elementos especificados\n",
    "animales.intersection({\"gato\", \"león\"})  # Devuelve un nuevo set con los elementos comunes al set y los elementos especificados\n",
    "animales.difference({\"gato\", \"pez\"})  # Devuelve un nuevo set con los elementos del set que no están en los elementos especificados\n",
    "animales.symmetric_difference({\"gato\", \"león\"})  # Devuelve un nuevo set con los elementos que están en uno de los sets, pero no en ambos\n",
    "\n",
    "# Métodos para diccionarios\n",
    "persona.keys()  # Devuelve una vista de los elementos clave del diccionario\n",
    "persona.values()  # Devuelve una vista de los valores del diccionario\n",
    "persona.items()  # Devuelve una vista de los pares clave-valor del diccionario\n",
    "persona.get(\"nombre\")  # Devuelve el valor de la clave especificada\n",
    "persona.pop(\"edad\")  # Elimina el elemento con la clave especificada y lo devuelve\n",
    "persona.popitem()  # Elimina y devuelve el último par clave-valor insertado\n",
    "persona.update({\"pais\": \"México\"})  # Actualiza el diccionario con los pares clave-valor especificados\n",
    "persona.clear()  # Elimina todos los elementos del diccionario\n",
    "persona.setdefault(\"edad\", 30)  # Devuelve el valor de la clave especificada. Si la clave no existe, inserta la clave con el valor especificado\n",
    "persona.copy()  # Devuelve una copia superficial del diccionario"
   ]
  }
 ],
 "metadata": {
  "kernelspec": {
   "display_name": "Python 3",
   "language": "python",
   "name": "python3"
  },
  "language_info": {
   "name": "python",
   "version": "3.13.0"
  }
 },
 "nbformat": 4,
 "nbformat_minor": 2
}
