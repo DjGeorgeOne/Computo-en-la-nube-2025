{
 "cells": [
  {
   "cell_type": "markdown",
   "metadata": {},
   "source": [
    "### Variables y tipos de datos"
   ]
  },
  {
   "cell_type": "code",
   "execution_count": 4,
   "metadata": {},
   "outputs": [],
   "source": [
    "nombre = \"Jorge Emmanuel\" # str\n",
    "ap_paterno = \"Dzul\"\n",
    "ap_materno = \"Zarate\"\n",
    "nickname = \"djgeorge_one\"\n",
    "edad = 20 # int\n",
    "altura = 1.70 # float\n",
    "es_estudiante = True # bool"
   ]
  },
  {
   "cell_type": "code",
   "execution_count": 6,
   "metadata": {},
   "outputs": [
    {
     "name": "stdout",
     "output_type": "stream",
     "text": [
      "Mi nombre completo es: Jorge Emmanuel Dzul Zarate y tengo 20 años\n"
     ]
    }
   ],
   "source": [
    "print (f\"Mi nombre completo es: {nombre} {ap_paterno} {ap_materno} y tengo {edad} años\")\n"
   ]
  },
  {
   "cell_type": "markdown",
   "metadata": {},
   "source": [
    "### Salida"
   ]
  },
  {
   "cell_type": "code",
   "execution_count": 1,
   "metadata": {},
   "outputs": [
    {
     "name": "stdout",
     "output_type": "stream",
     "text": [
      "mi nommbre es: jorgejorgejorgejorgejorgejorgejorgejorgejorgejorge\n"
     ]
    }
   ],
   "source": [
    "nombre = \"jorge\"\n",
    "\n",
    "print (f\"mi nommbre es: {nombre*10}\")"
   ]
  },
  {
   "cell_type": "markdown",
   "metadata": {},
   "source": [
    "### Entradas"
   ]
  },
  {
   "cell_type": "code",
   "execution_count": 2,
   "metadata": {},
   "outputs": [
    {
     "name": "stdout",
     "output_type": "stream",
     "text": [
      "mi nombre es: Jorge Zarate\n"
     ]
    }
   ],
   "source": [
    "nombre = input(\"Ingresa tu nombre\")\n",
    "\n",
    "print (f\"mi nombre es: {nombre}\")"
   ]
  },
  {
   "cell_type": "markdown",
   "metadata": {},
   "source": [
    "Suma"
   ]
  },
  {
   "cell_type": "code",
   "execution_count": 3,
   "metadata": {},
   "outputs": [
    {
     "name": "stdout",
     "output_type": "stream",
     "text": [
      "La suma es: 68\n"
     ]
    }
   ],
   "source": [
    "a = int(input(\"ingresa un numero\"))\n",
    "b = int(input(\"Ingresa otro numero\"))\n",
    "suma = int(a+b)\n",
    "\n",
    "print(f\"La suma es: {suma}\")"
   ]
  },
  {
   "cell_type": "code",
   "execution_count": 4,
   "metadata": {},
   "outputs": [
    {
     "name": "stdout",
     "output_type": "stream",
     "text": [
      "c : True\n"
     ]
    }
   ],
   "source": [
    "c = bool(input(\"Ingresa un numero\"))\n",
    "\n",
    "print(f\"c : {c}\")"
   ]
  }
 ],
 "metadata": {
  "kernelspec": {
   "display_name": "Python 3",
   "language": "python",
   "name": "python3"
  },
  "language_info": {
   "codemirror_mode": {
    "name": "ipython",
    "version": 3
   },
   "file_extension": ".py",
   "mimetype": "text/x-python",
   "name": "python",
   "nbconvert_exporter": "python",
   "pygments_lexer": "ipython3",
   "version": "3.13.0"
  }
 },
 "nbformat": 4,
 "nbformat_minor": 2
}
