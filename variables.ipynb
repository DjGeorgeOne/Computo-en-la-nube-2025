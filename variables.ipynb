{
 "cells": [
  {
   "cell_type": "markdown",
   "metadata": {},
   "source": [
    "### Variables y tipos de datos"
   ]
  },
  {
   "cell_type": "code",
   "execution_count": 4,
   "metadata": {},
   "outputs": [],
   "source": [
    "nombre = \"Jorge Emmanuel\" # str\n",
    "ap_paterno = \"Dzul\"\n",
    "ap_materno = \"Zarate\"\n",
    "nickname = \"djgeorge_one\"\n",
    "edad = 20 # int\n",
    "altura = 1.70 # float\n",
    "es_estudiante = True # bool"
   ]
  },
  {
   "cell_type": "code",
   "execution_count": 6,
   "metadata": {},
   "outputs": [
    {
     "name": "stdout",
     "output_type": "stream",
     "text": [
      "Mi nombre completo es: Jorge Emmanuel Dzul Zarate y tengo 20 años\n"
     ]
    }
   ],
   "source": [
    "print (f\"Mi nombre completo es: {nombre} {ap_paterno} {ap_materno} y tengo {edad} años\")\n"
   ]
  }
 ],
 "metadata": {
  "kernelspec": {
   "display_name": "Python 3",
   "language": "python",
   "name": "python3"
  },
  "language_info": {
   "codemirror_mode": {
    "name": "ipython",
    "version": 3
   },
   "file_extension": ".py",
   "mimetype": "text/x-python",
   "name": "python",
   "nbconvert_exporter": "python",
   "pygments_lexer": "ipython3",
   "version": "3.13.0"
  }
 },
 "nbformat": 4,
 "nbformat_minor": 2
}
