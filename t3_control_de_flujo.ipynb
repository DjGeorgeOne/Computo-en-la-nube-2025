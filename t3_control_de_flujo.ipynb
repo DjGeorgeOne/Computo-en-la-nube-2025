{
 "cells": [
  {
   "cell_type": "markdown",
   "metadata": {},
   "source": [
    "### *1 Condicionales "
   ]
  },
  {
   "cell_type": "code",
   "execution_count": 9,
   "metadata": {},
   "outputs": [
    {
     "name": "stdout",
     "output_type": "stream",
     "text": [
      "Tiene justo 18.\n"
     ]
    }
   ],
   "source": [
    "edad = 18\n",
    "\n",
    "if edad < 18:\n",
    "    print (\"Eres menor de edad.\")\n",
    "elif edad == 18:\n",
    "    print (\"Tiene justo 18.\")\n",
    "else :\n",
    "    print (\"Eres maoyor de edad.\")"
   ]
  },
  {
   "cell_type": "markdown",
   "metadata": {},
   "source": [
    "### Bucles"
   ]
  },
  {
   "cell_type": "code",
   "execution_count": 8,
   "metadata": {},
   "outputs": [
    {
     "name": "stdout",
     "output_type": "stream",
     "text": [
      "manzana\n",
      "banana\n",
      "cereza\n"
     ]
    }
   ],
   "source": [
    "frutas = [\"manzana\", \"banana\", \"cereza\"]\n",
    "\n",
    "for fruta in frutas:\n",
    "    print (fruta)"
   ]
  },
  {
   "cell_type": "markdown",
   "metadata": {},
   "source": [
    "### Iteracion por rango"
   ]
  },
  {
   "cell_type": "code",
   "execution_count": 7,
   "metadata": {},
   "outputs": [
    {
     "name": "stdout",
     "output_type": "stream",
     "text": [
      "0\n",
      "1\n",
      "2\n",
      "3\n",
      "4\n",
      "5\n",
      "6\n",
      "7\n",
      "8\n",
      "9\n"
     ]
    }
   ],
   "source": [
    "for i in range(10):\n",
    "    print (i)"
   ]
  },
  {
   "cell_type": "markdown",
   "metadata": {},
   "source": [
    "### Enumarate"
   ]
  },
  {
   "cell_type": "code",
   "execution_count": 6,
   "metadata": {},
   "outputs": [
    {
     "name": "stdout",
     "output_type": "stream",
     "text": [
      "La fruta {fruta} tiene el indice {i}\n",
      "La fruta {fruta} tiene el indice {i}\n",
      "La fruta {fruta} tiene el indice {i}\n"
     ]
    }
   ],
   "source": [
    "frutas = [\"manzana\", \"banana\", \"cereza\"]\n",
    "\n",
    "for i, fruta in enumerate(frutas):\n",
    "    print (\"La fruta {fruta} tiene el indice {i}\")"
   ]
  },
  {
   "cell_type": "markdown",
   "metadata": {},
   "source": [
    "### For zip"
   ]
  },
  {
   "cell_type": "code",
   "execution_count": 11,
   "metadata": {},
   "outputs": [
    {
     "name": "stdout",
     "output_type": "stream",
     "text": [
      "La fruta {fruta} es de color {color}\n",
      "La fruta {fruta} es de color {color}\n",
      "La fruta {fruta} es de color {color}\n"
     ]
    }
   ],
   "source": [
    "frutas = [\"manzana\", \"banana\", \"cereza\"]\n",
    "colores = [\"rojo \", \"amarillo\", \"rojo\"]\n",
    "\n",
    "for fruta, color in zip (frutas, colores):\n",
    "    print (\"La fruta {fruta} es de color {color}\")"
   ]
  },
  {
   "cell_type": "markdown",
   "metadata": {},
   "source": [
    "### For con compresion de listas"
   ]
  },
  {
   "cell_type": "code",
   "execution_count": 5,
   "metadata": {},
   "outputs": [
    {
     "name": "stdout",
     "output_type": "stream",
     "text": [
      "['MANZANA', 'BANANA', 'CEREZA']\n"
     ]
    }
   ],
   "source": [
    "frutas = [\"manzana\", \"banana\", \"cereza\"]\n",
    "\n",
    "nueva_lista = [fruta.upper() for fruta in frutas]\n",
    "print (nueva_lista)"
   ]
  },
  {
   "cell_type": "markdown",
   "metadata": {},
   "source": [
    "### Diccionario"
   ]
  },
  {
   "cell_type": "code",
   "execution_count": 13,
   "metadata": {},
   "outputs": [
    {
     "name": "stdout",
     "output_type": "stream",
     "text": [
      "Tengo {cantidad} {fruta}\n",
      "Tengo {cantidad} {fruta}\n",
      "Tengo {cantidad} {fruta}\n"
     ]
    }
   ],
   "source": [
    "diccionario = {\"manzana\":10, \"banana\":20, \"cereza\":30}\n",
    "\n",
    "for fruta, cantidad in diccionario.items():\n",
    "    print (\"Tengo {cantidad} {fruta}\")"
   ]
  },
  {
   "cell_type": "markdown",
   "metadata": {},
   "source": [
    "### For de tipo sets"
   ]
  },
  {
   "cell_type": "code",
   "execution_count": 14,
   "metadata": {},
   "outputs": [
    {
     "name": "stdout",
     "output_type": "stream",
     "text": [
      "uva\n",
      "bananas\n",
      "cereza\n",
      "manzanas\n"
     ]
    }
   ],
   "source": [
    "frutas = {\"manzanas\", \"bananas\", \"cereza\", \"uva\"}\n",
    "\n",
    "for fruta in frutas:\n",
    "    print(fruta)"
   ]
  },
  {
   "cell_type": "markdown",
   "metadata": {},
   "source": [
    "### For simulado"
   ]
  },
  {
   "cell_type": "code",
   "execution_count": 15,
   "metadata": {},
   "outputs": [
    {
     "name": "stdout",
     "output_type": "stream",
     "text": [
      "manzana\n",
      "banana\n",
      "cereza\n"
     ]
    }
   ],
   "source": [
    "frutas = [\"manzana\", \"banana\", \"cereza\"]\n",
    "\n",
    "i = 0\n",
    "\n",
    "while True:\n",
    "    if i >= len(frutas):\n",
    "        break\n",
    "    print(frutas[i])\n",
    "    i+=1"
   ]
  }
 ],
 "metadata": {
  "kernelspec": {
   "display_name": "Python 3",
   "language": "python",
   "name": "python3"
  },
  "language_info": {
   "codemirror_mode": {
    "name": "ipython",
    "version": 3
   },
   "file_extension": ".py",
   "mimetype": "text/x-python",
   "name": "python",
   "nbconvert_exporter": "python",
   "pygments_lexer": "ipython3",
   "version": "3.13.0"
  }
 },
 "nbformat": 4,
 "nbformat_minor": 2
}
