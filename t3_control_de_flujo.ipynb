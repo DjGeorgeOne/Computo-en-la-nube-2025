{
 "cells": [
  {
   "cell_type": "markdown",
   "metadata": {},
   "source": [
    "### 1 Condicionales "
   ]
  },
  {
   "cell_type": "code",
   "execution_count": 9,
   "metadata": {},
   "outputs": [
    {
     "name": "stdout",
     "output_type": "stream",
     "text": [
      "Tiene justo 18.\n"
     ]
    }
   ],
   "source": [
    "edad = 18\n",
    "\n",
    "if edad < 18:\n",
    "    print (\"Eres menor de edad.\")\n",
    "elif edad == 18:\n",
    "    print (\"Tiene justo 18.\")\n",
    "else :\n",
    "    print (\"Eres maoyor de edad.\")"
   ]
  },
  {
   "cell_type": "markdown",
   "metadata": {},
   "source": [
    "### Bucles"
   ]
  },
  {
   "cell_type": "code",
   "execution_count": 8,
   "metadata": {},
   "outputs": [
    {
     "name": "stdout",
     "output_type": "stream",
     "text": [
      "manzana\n",
      "banana\n",
      "cereza\n"
     ]
    }
   ],
   "source": [
    "frutas = [\"manzana\", \"banana\", \"cereza\"]\n",
    "\n",
    "for fruta in frutas:\n",
    "    print (fruta)"
   ]
  },
  {
   "cell_type": "markdown",
   "metadata": {},
   "source": [
    "### Iteracion por rango"
   ]
  },
  {
   "cell_type": "code",
   "execution_count": 7,
   "metadata": {},
   "outputs": [
    {
     "name": "stdout",
     "output_type": "stream",
     "text": [
      "0\n",
      "1\n",
      "2\n",
      "3\n",
      "4\n",
      "5\n",
      "6\n",
      "7\n",
      "8\n",
      "9\n"
     ]
    }
   ],
   "source": [
    "for i in range(10):\n",
    "    print (i)"
   ]
  },
  {
   "cell_type": "markdown",
   "metadata": {},
   "source": [
    "### Enumarate"
   ]
  },
  {
   "cell_type": "code",
   "execution_count": 6,
   "metadata": {},
   "outputs": [
    {
     "name": "stdout",
     "output_type": "stream",
     "text": [
      "La fruta {fruta} tiene el indice {i}\n",
      "La fruta {fruta} tiene el indice {i}\n",
      "La fruta {fruta} tiene el indice {i}\n"
     ]
    }
   ],
   "source": [
    "frutas = [\"manzana\", \"banana\", \"cereza\"]\n",
    "\n",
    "for i, fruta in enumerate(frutas):\n",
    "    print (\"La fruta {fruta} tiene el indice {i}\")"
   ]
  },
  {
   "cell_type": "markdown",
   "metadata": {},
   "source": [
    "### For zip"
   ]
  },
  {
   "cell_type": "code",
   "execution_count": 11,
   "metadata": {},
   "outputs": [
    {
     "name": "stdout",
     "output_type": "stream",
     "text": [
      "La fruta {fruta} es de color {color}\n",
      "La fruta {fruta} es de color {color}\n",
      "La fruta {fruta} es de color {color}\n"
     ]
    }
   ],
   "source": [
    "frutas = [\"manzana\", \"banana\", \"cereza\"]\n",
    "colores = [\"rojo \", \"amarillo\", \"rojo\"]\n",
    "\n",
    "for fruta, color in zip (frutas, colores):\n",
    "    print (\"La fruta {fruta} es de color {color}\")"
   ]
  },
  {
   "cell_type": "markdown",
   "metadata": {},
   "source": [
    "### For con compresion de listas"
   ]
  },
  {
   "cell_type": "code",
   "execution_count": 5,
   "metadata": {},
   "outputs": [
    {
     "name": "stdout",
     "output_type": "stream",
     "text": [
      "['MANZANA', 'BANANA', 'CEREZA']\n"
     ]
    }
   ],
   "source": [
    "frutas = [\"manzana\", \"banana\", \"cereza\"]\n",
    "\n",
    "nueva_lista = [fruta.upper() for fruta in frutas]\n",
    "print (nueva_lista)"
   ]
  },
  {
   "cell_type": "markdown",
   "metadata": {},
   "source": [
    "### Diccionario"
   ]
  },
  {
   "cell_type": "code",
   "execution_count": 13,
   "metadata": {},
   "outputs": [
    {
     "name": "stdout",
     "output_type": "stream",
     "text": [
      "Tengo {cantidad} {fruta}\n",
      "Tengo {cantidad} {fruta}\n",
      "Tengo {cantidad} {fruta}\n"
     ]
    }
   ],
   "source": [
    "diccionario = {\"manzana\":10, \"banana\":20, \"cereza\":30}\n",
    "\n",
    "for fruta, cantidad in diccionario.items():\n",
    "    print (\"Tengo {cantidad} {fruta}\")"
   ]
  },
  {
   "cell_type": "markdown",
   "metadata": {},
   "source": [
    "### For de tipo sets"
   ]
  },
  {
   "cell_type": "code",
   "execution_count": 14,
   "metadata": {},
   "outputs": [
    {
     "name": "stdout",
     "output_type": "stream",
     "text": [
      "uva\n",
      "bananas\n",
      "cereza\n",
      "manzanas\n"
     ]
    }
   ],
   "source": [
    "frutas = {\"manzanas\", \"bananas\", \"cereza\", \"uva\"}\n",
    "\n",
    "for fruta in frutas:\n",
    "    print(fruta)"
   ]
  },
  {
   "cell_type": "markdown",
   "metadata": {},
   "source": [
    "### For simulado"
   ]
  },
  {
   "cell_type": "code",
   "execution_count": 15,
   "metadata": {},
   "outputs": [
    {
     "name": "stdout",
     "output_type": "stream",
     "text": [
      "manzana\n",
      "banana\n",
      "cereza\n"
     ]
    }
   ],
   "source": [
    "frutas = [\"manzana\", \"banana\", \"cereza\"]\n",
    "\n",
    "i = 0\n",
    "\n",
    "while True:\n",
    "    if i >= len(frutas):\n",
    "        break\n",
    "    print(frutas[i])\n",
    "    i+=1"
   ]
  },
  {
   "cell_type": "markdown",
   "metadata": {},
   "source": [
    "Ejercicios de practica"
   ]
  },
  {
   "cell_type": "code",
   "execution_count": null,
   "metadata": {},
   "outputs": [],
   "source": [
    "# Lista de frutas\n",
    "frutas = [\"manzana\", \"banana\", \"cereza\"]\n",
    "\n",
    "for fruta in frutas:\n",
    "    print(f\"\\nFruta actual: {fruta}\")\n",
    "\n",
    "    # 1. capitalize: Capitaliza la primera letra.\n",
    "    print(\"capitalize:\", fruta.capitalize())\n",
    "\n",
    "    # 2. casefold: Versión en minúsculas ideal para comparaciones insensibles a mayúsculas.\n",
    "    print(\"casefold:\", fruta.casefold())\n",
    "\n",
    "    # 3. center: Centra la cadena en un ancho especificado, rellenando con un caracter.\n",
    "    print(\"center:\", fruta.center(20, \"*\"))\n",
    "\n",
    "    # 4. count: Cuenta cuántas veces aparece una subcadena.\n",
    "    print(\"count ('a'):\", fruta.count(\"a\"))\n",
    "\n",
    "    # 5. encode: Convierte la cadena a bytes con la codificación dada.\n",
    "    print(\"encode (utf-8):\", fruta.encode(\"utf-8\"))\n",
    "\n",
    "    # 6. endswith: Verifica si la cadena termina con una subcadena.\n",
    "    print(\"endswith 'a':\", fruta.endswith(\"a\"))\n",
    "\n",
    "    # 7. expandtabs: No aplica porque no hay tabulaciones en las palabras.\n",
    "\n",
    "    # 8. find: Retorna el índice más bajo donde se encuentra la subcadena, o -1 si no existe.\n",
    "    print(\"find 'n':\", fruta.find(\"n\"))\n",
    "\n",
    "    # 9. format: Formatea la cadena utilizando llaves {}.\n",
    "    print(\"format:\", \"Fruta favorita: {}\".format(fruta))\n",
    "\n",
    "    # 10. format_map: Similar a format() pero toma un diccionario.\n",
    "    print(\"format_map:\", \"Fruta favorita: {nombre}\".format_map({\"nombre\": fruta}))\n",
    "\n",
    "    # 11. index: Igual que find, pero lanza un error si la subcadena no se encuentra.\n",
    "    print(\"index 'n':\", fruta.index(\"n\") if \"n\" in fruta else \"No encontrado\")\n",
    "\n",
    "    # 12. isalnum: True si todos los caracteres son alfanuméricos.\n",
    "    print(\"isalnum:\", fruta.isalnum())\n",
    "\n",
    "    # 13. isalpha: True si todos los caracteres son letras.\n",
    "    print(\"isalpha:\", fruta.isalpha())\n",
    "\n",
    "    # 14. isascii: True si todos los caracteres pertenecen al conjunto ASCII.\n",
    "    print(\"isascii:\", fruta.isascii())\n",
    "    \n",
    "        # 15. islower: True si todas las letras están en minúsculas.\n",
    "    print(\"islower:\", fruta.islower())"
   ]
  }
 ],
 "metadata": {
  "kernelspec": {
   "display_name": "Python 3",
   "language": "python",
   "name": "python3"
  },
  "language_info": {
   "codemirror_mode": {
    "name": "ipython",
    "version": 3
   },
   "file_extension": ".py",
   "mimetype": "text/x-python",
   "name": "python",
   "nbconvert_exporter": "python",
   "pygments_lexer": "ipython3",
   "version": "3.13.0"
  }
 },
 "nbformat": 4,
 "nbformat_minor": 2
}
